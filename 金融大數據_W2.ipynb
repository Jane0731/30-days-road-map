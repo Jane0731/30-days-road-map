{
  "nbformat": 4,
  "nbformat_minor": 0,
  "metadata": {
    "colab": {
      "provenance": [],
      "authorship_tag": "ABX9TyNvAuroHlGXmLhzQdzrB9Pv",
      "include_colab_link": true
    },
    "kernelspec": {
      "name": "python3",
      "display_name": "Python 3"
    },
    "language_info": {
      "name": "python"
    }
  },
  "cells": [
    {
      "cell_type": "markdown",
      "metadata": {
        "id": "view-in-github",
        "colab_type": "text"
      },
      "source": [
        "<a href=\"https://colab.research.google.com/github/Jane0731/30-days-road-map/blob/main/%E9%87%91%E8%9E%8D%E5%A4%A7%E6%95%B8%E6%93%9A_W2.ipynb\" target=\"_parent\"><img src=\"https://colab.research.google.com/assets/colab-badge.svg\" alt=\"Open In Colab\"/></a>"
      ]
    },
    {
      "cell_type": "code",
      "execution_count": 17,
      "metadata": {
        "colab": {
          "base_uri": "https://localhost:8080/"
        },
        "id": "c8pfXaxYbeIP",
        "outputId": "a432431a-3981-44e0-ddc8-c7c5579671c8"
      },
      "outputs": [
        {
          "output_type": "stream",
          "name": "stdout",
          "text": [
            "['日期', '成交股數', '成交金額', '開盤價', '最高價', '最低價', '收盤價', '漲跌價差', '成交筆數']\n",
            "113年09月2330台積電各日成交資訊\n",
            "\n",
            "           日期        成交股數            成交金額     開盤價     最高價     最低價     收盤價  \\\n",
            "0   113/09/02  19,272,593  18,270,058,260  950.00  955.00  943.00  948.00   \n",
            "1   113/09/03  23,205,623  21,908,471,541  948.00  952.00  939.00  940.00   \n",
            "2   113/09/04  93,169,835  83,424,133,824  894.00  905.00  888.00  889.00   \n",
            "3   113/09/05  34,147,890  30,998,595,394  907.00  915.00  900.00  902.00   \n",
            "4   113/09/06  28,248,063  25,786,016,936  909.00  918.00  903.00  918.00   \n",
            "5   113/09/09  38,448,946  34,456,838,126  892.00  900.00  891.00  899.00   \n",
            "6   113/09/10  34,312,646  31,067,424,234  907.00  911.00  901.00  904.00   \n",
            "7   113/09/11  19,513,256  17,621,000,956  906.00  906.00  900.00  901.00   \n",
            "8   113/09/12  43,749,260  40,999,951,508  936.00  944.00  928.00  940.00   \n",
            "9   113/09/13  28,307,441  26,795,862,243  955.00  955.00  939.00  947.00   \n",
            "10  113/09/16  14,456,888  13,692,259,575  952.00  952.00  943.00  947.00   \n",
            "11  113/09/18  30,094,662  28,303,054,525  945.00  948.00  933.00  941.00   \n",
            "\n",
            "      漲跌價差     成交筆數  \n",
            "0    +4.00   31,642  \n",
            "1    -8.00   47,139  \n",
            "2   -51.00  393,210  \n",
            "3   +13.00   63,902  \n",
            "4   +16.00   38,415  \n",
            "5   -19.00  102,365  \n",
            "6    +5.00   45,141  \n",
            "7    -3.00   30,789  \n",
            "8    X0.00   80,643  \n",
            "9    +7.00   39,071  \n",
            "10    0.00   26,421  \n",
            "11   -6.00   46,622  \n"
          ]
        }
      ],
      "source": [
        "import requests\n",
        "import pandas as pd\n",
        "import datetime as dt\n",
        "\n",
        "url = \"https://www.twse.com.tw/rwd/zh/afterTrading/STOCK_DAY\"\n",
        "\n",
        "date = dt.date.today().strftime(\"%Y%m%d\")\n",
        "stockNo='2330'\n",
        "params = {\n",
        "    'date': date,\n",
        "    'stockNo': stockNo\n",
        "}\n",
        "response = requests.get(url,params=params)\n",
        "\n",
        "if response.status_code == 200:\n",
        "    data = response.json()\n",
        "\n",
        "    if data['stat'] == 'OK':\n",
        "        fields = data['fields']\n",
        "        records = data['data']\n",
        "        df = pd.DataFrame(records, columns=fields)\n",
        "        print(data['title'].replace(\" \", \"\").replace(\"\\n\", \"\").replace(\"\\t\", \"\"))\n",
        "        print(\"\")\n",
        "        print(df)\n",
        "    else:\n",
        "        print(\"無法獲取資料\", data['stat'])\n",
        "else:\n",
        "    print(f\"請求錯誤，狀態碼：{response.status_code}\")"
      ]
    }
  ]
}